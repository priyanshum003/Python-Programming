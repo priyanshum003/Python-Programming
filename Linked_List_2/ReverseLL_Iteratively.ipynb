{
 "cells": [
  {
   "cell_type": "markdown",
   "id": "0296d0be",
   "metadata": {},
   "source": [
    "Code : Reverse a Linked List By Iterative solution"
   ]
  },
  {
   "cell_type": "code",
   "execution_count": 2,
   "id": "2923e945",
   "metadata": {},
   "outputs": [
    {
     "name": "stdout",
     "output_type": "stream",
     "text": [
      "1 2 3 4 5 -1\n",
      "1 -> 2 -> 3 -> 4 -> 5 -> None\n",
      "5 -> 4 -> 3 -> 2 -> 1 -> None\n"
     ]
    }
   ],
   "source": [
    "class Node():\n",
    "    def __init__(self,data):\n",
    "        self.data = data\n",
    "        self.next = None\n",
    "\n",
    "def takeInput():\n",
    "    \n",
    "    list = [int(x) for x in input().split(\" \")]\n",
    "    head = None\n",
    "    tail = None\n",
    "    \n",
    "    for data in list:\n",
    "        if data == -1:\n",
    "            break\n",
    "        newNode = Node(data)\n",
    "        if head is None:\n",
    "            head = newNode\n",
    "            tail = newNode\n",
    "        else:\n",
    "            tail.next = newNode\n",
    "            tail = tail.next\n",
    "    return head\n",
    "\n",
    "def printLL(head):\n",
    "    while head is not None:\n",
    "        print(str(head.data) + \" -> \",end=\"\")\n",
    "        head = head.next \n",
    "    print(\"None\")\n",
    "\n",
    "def reverseLL(head):  #Iteratively\n",
    "    curr = head\n",
    "    prev = None\n",
    "    while curr is not None:\n",
    "        next = curr.next\n",
    "        curr.next = prev\n",
    "        prev = curr\n",
    "        curr = next\n",
    "    return prev #because by reversing prev will be the new HEAD !\n",
    "\n",
    "head = takeInput()\n",
    "printLL(head)\n",
    "head = reverseLL(head)\n",
    "printLL(head)\n",
    "\n",
    "                "
   ]
  },
  {
   "cell_type": "markdown",
   "id": "65fe5d32",
   "metadata": {},
   "source": [
    "## The time complexity of this approach is -> O(N)"
   ]
  },
  {
   "cell_type": "code",
   "execution_count": null,
   "id": "f7f4104d",
   "metadata": {},
   "outputs": [],
   "source": []
  }
 ],
 "metadata": {
  "kernelspec": {
   "display_name": "Python 3 (ipykernel)",
   "language": "python",
   "name": "python3"
  },
  "language_info": {
   "codemirror_mode": {
    "name": "ipython",
    "version": 3
   },
   "file_extension": ".py",
   "mimetype": "text/x-python",
   "name": "python",
   "nbconvert_exporter": "python",
   "pygments_lexer": "ipython3",
   "version": "3.9.7"
  }
 },
 "nbformat": 4,
 "nbformat_minor": 5
}
