{
 "cells": [
  {
   "cell_type": "code",
   "execution_count": 6,
   "id": "bff53204",
   "metadata": {},
   "outputs": [
    {
     "name": "stdout",
     "output_type": "stream",
     "text": [
      "1 2 3 4 5 6 -1\n",
      "1 --> 2 --> 3 --> 4 --> 5 --> 6 --> None\n",
      "6 --> 5 --> 4 --> 3 --> 2 --> 1 --> None\n"
     ]
    }
   ],
   "source": [
    "class Node:\n",
    "    \n",
    "    def __init__(self,data):\n",
    "        self.data = data\n",
    "        self.next = None\n",
    "\n",
    "def takeInput():\n",
    "    inputList = [int(ele) for ele in input().split()]\n",
    "    head = None\n",
    "    tail = None\n",
    "    \n",
    "    for Data in inputList:\n",
    "        if Data == -1:\n",
    "            break\n",
    "            \n",
    "        newNode = Node(Data)\n",
    "        if head is None:\n",
    "            head = newNode\n",
    "            tail = newNode\n",
    "        else:\n",
    "            tail.next = newNode\n",
    "            tail = tail.next\n",
    "            \n",
    "    return head\n",
    "\n",
    "def printLL(head):\n",
    "    while head is not None:\n",
    "        print(str(head.data) + \" --> \",end=\"\")\n",
    "        head = head.next\n",
    "    print(\"None\")\n",
    "    \n",
    "def reverseLL(head):\n",
    "    if head is None or head.next is None:\n",
    "        return head\n",
    "    \n",
    "    smallHead = reverseLL(head.next)\n",
    "    head.next.next = head\n",
    "    head.next = None\n",
    "    \n",
    "    return smallHead\n",
    "\n",
    "head = takeInput()\n",
    "printLL(head)\n",
    "head = reverseLL(head)\n",
    "printLL(head)\n",
    "        "
   ]
  },
  {
   "cell_type": "code",
   "execution_count": null,
   "id": "2de0ff68",
   "metadata": {},
   "outputs": [],
   "source": []
  }
 ],
 "metadata": {
  "kernelspec": {
   "display_name": "Python 3 (ipykernel)",
   "language": "python",
   "name": "python3"
  },
  "language_info": {
   "codemirror_mode": {
    "name": "ipython",
    "version": 3
   },
   "file_extension": ".py",
   "mimetype": "text/x-python",
   "name": "python",
   "nbconvert_exporter": "python",
   "pygments_lexer": "ipython3",
   "version": "3.9.7"
  }
 },
 "nbformat": 4,
 "nbformat_minor": 5
}
