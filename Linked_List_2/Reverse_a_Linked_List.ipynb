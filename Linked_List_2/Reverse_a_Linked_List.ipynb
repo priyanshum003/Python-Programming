{
 "cells": [
  {
   "cell_type": "code",
   "execution_count": 4,
   "id": "2c85bf04",
   "metadata": {},
   "outputs": [
    {
     "name": "stdout",
     "output_type": "stream",
     "text": [
      "1 2 3 4 5 6 -1\n",
      "1 --> 2 --> 3 --> 4 --> 5 --> 6 --> None\n",
      "6 --> 5 --> 4 --> 3 --> 2 --> 1 --> None\n"
     ]
    }
   ],
   "source": [
    "class Node():\n",
    "    \n",
    "    def __init__(self,data):\n",
    "        self.data = data\n",
    "        self.next = None\n",
    "\n",
    "def take_Input():\n",
    "    \n",
    "    listItem = [int(ele) for ele in input().split()]  #List_comprehension\n",
    "    head = None\n",
    "    tail = None\n",
    "    \n",
    "    for currData in listItem:\n",
    "        \n",
    "        \n",
    "        if currData == -1 :\n",
    "            break\n",
    "        \n",
    "        newNode = Node(currData)\n",
    "        \n",
    "        if head is None:\n",
    "            head = newNode\n",
    "            tail = newNode\n",
    "        else:\n",
    "            tail.next = newNode\n",
    "            tail = tail.next\n",
    "            \n",
    "        \n",
    "    return head\n",
    "\n",
    "def printLL(head):\n",
    "    while head is not None:\n",
    "        print(str(head.data )+ \" --> \",end=\"\")\n",
    "        head = head.next\n",
    "    print(\"None\")\n",
    "    \n",
    "def reverseLL(head):\n",
    "    if head is None or head.next is None:\n",
    "        return head\n",
    "    \n",
    "    smallHead = reverseLL(head.next)\n",
    "    curr = smallHead\n",
    "    while curr.next is not None:\n",
    "        curr = curr.next\n",
    "    curr.next = head\n",
    "    head.next = None\n",
    "    return smallHead\n",
    "    \n",
    "    \n",
    "    \n",
    "head = take_Input()\n",
    "printLL(head)\n",
    "head2 = reverseLL(head)\n",
    "printLL(head2)\n",
    "        "
   ]
  },
  {
   "cell_type": "code",
   "execution_count": null,
   "id": "d22a2411",
   "metadata": {},
   "outputs": [],
   "source": [
    "#Time comlplexity of this problem is  O(N*2)"
   ]
  }
 ],
 "metadata": {
  "kernelspec": {
   "display_name": "Python 3 (ipykernel)",
   "language": "python",
   "name": "python3"
  },
  "language_info": {
   "codemirror_mode": {
    "name": "ipython",
    "version": 3
   },
   "file_extension": ".py",
   "mimetype": "text/x-python",
   "name": "python",
   "nbconvert_exporter": "python",
   "pygments_lexer": "ipython3",
   "version": "3.9.7"
  }
 },
 "nbformat": 4,
 "nbformat_minor": 5
}
