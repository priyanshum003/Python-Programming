{
 "cells": [
  {
   "cell_type": "markdown",
   "id": "0d7d1b50",
   "metadata": {},
   "source": [
    "## This is the second way to reverse LL with Time Complexity of:- O(N*2)"
   ]
  },
  {
   "cell_type": "code",
   "execution_count": 7,
   "id": "ceec1294",
   "metadata": {},
   "outputs": [
    {
     "name": "stdout",
     "output_type": "stream",
     "text": [
      "1 2 3 4 5 -1\n",
      "1 --> 2 --> 3 --> 4 --> 5 --> None\n",
      "5 --> 4 --> 3 --> 2 --> 1 --> None\n"
     ]
    }
   ],
   "source": [
    "class Node():\n",
    "    \n",
    "    def __init__(self,data):\n",
    "        self.data = data\n",
    "        self.next = None\n",
    "\n",
    "def takeInput():\n",
    "    \n",
    "    inputList = [int(ele) for ele in input().split()] #List Comprehention\n",
    "    head = None\n",
    "    tail = None\n",
    "    \n",
    "    for currData in inputList:\n",
    "        if currData == -1:\n",
    "            break\n",
    "            \n",
    "        newNode = Node(currData)\n",
    "        if head is None:\n",
    "            head = newNode\n",
    "            tail = newNode\n",
    "        else:\n",
    "            tail.next = newNode\n",
    "            tail = tail.next\n",
    "    return head\n",
    "\n",
    "def printLL(head):\n",
    "    while head is not None:\n",
    "        print(str(head.data) + \" --> \",end=\"\")\n",
    "        head = head.next \n",
    "    print(\"None\")\n",
    "    \n",
    "def reverseLL(head):\n",
    "    if head is None or head.next is None:\n",
    "        return head,head\n",
    "    \n",
    "    smallHead,tail = reverseLL(head.next)\n",
    "    tail.next = head\n",
    "    head.next = None\n",
    "    \n",
    "    return smallHead,head\n",
    "\n",
    "head = takeInput()\n",
    "printLL(head)\n",
    "head,tail = reverseLL(head)    #storing both head and tail\n",
    "printLL(head)     #printing head\n",
    "\n",
    "        "
   ]
  },
  {
   "cell_type": "code",
   "execution_count": null,
   "id": "bca6e0fb",
   "metadata": {},
   "outputs": [],
   "source": []
  }
 ],
 "metadata": {
  "kernelspec": {
   "display_name": "Python 3 (ipykernel)",
   "language": "python",
   "name": "python3"
  },
  "language_info": {
   "codemirror_mode": {
    "name": "ipython",
    "version": 3
   },
   "file_extension": ".py",
   "mimetype": "text/x-python",
   "name": "python",
   "nbconvert_exporter": "python",
   "pygments_lexer": "ipython3",
   "version": "3.9.7"
  }
 },
 "nbformat": 4,
 "nbformat_minor": 5
}
