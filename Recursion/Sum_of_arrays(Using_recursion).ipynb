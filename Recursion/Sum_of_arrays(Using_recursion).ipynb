{
 "cells": [
  {
   "cell_type": "code",
   "execution_count": 4,
   "id": "5104a153",
   "metadata": {},
   "outputs": [],
   "source": [
    "def Sum_array(arr):\n",
    "    l = len(arr)\n",
    "    if l == 0:\n",
    "        return 0\n",
    "    smaller_sum = Sum_array(arr[1:])\n",
    "    sum = arr[0] + smaller_sum\n",
    "    return sum\n"
   ]
  },
  {
   "cell_type": "code",
   "execution_count": 6,
   "id": "475f6eb2",
   "metadata": {},
   "outputs": [
    {
     "name": "stdout",
     "output_type": "stream",
     "text": [
      "20\n"
     ]
    }
   ],
   "source": [
    "arr = [9,8,3]\n",
    "print(Sum_array(arr))"
   ]
  },
  {
   "cell_type": "code",
   "execution_count": null,
   "id": "598d2c13",
   "metadata": {},
   "outputs": [],
   "source": []
  }
 ],
 "metadata": {
  "kernelspec": {
   "display_name": "Python 3",
   "language": "python",
   "name": "python3"
  },
  "language_info": {
   "codemirror_mode": {
    "name": "ipython",
    "version": 3
   },
   "file_extension": ".py",
   "mimetype": "text/x-python",
   "name": "python",
   "nbconvert_exporter": "python",
   "pygments_lexer": "ipython3",
   "version": "3.8.8"
  }
 },
 "nbformat": 4,
 "nbformat_minor": 5
}
