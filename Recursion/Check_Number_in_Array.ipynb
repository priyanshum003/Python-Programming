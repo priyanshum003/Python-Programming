{
 "cells": [
  {
   "cell_type": "code",
   "execution_count": 8,
   "id": "a59234e0",
   "metadata": {},
   "outputs": [],
   "source": [
    "def checknumber(arr,x):\n",
    "    l = len(arr)\n",
    "    if l == 0:\n",
    "        return False\n",
    "    if arr[0] == x :\n",
    "        return True\n",
    "    \n",
    "    return checknumber(arr[1:],x)\n"
   ]
  },
  {
   "cell_type": "code",
   "execution_count": 10,
   "id": "e71f2818",
   "metadata": {},
   "outputs": [
    {
     "name": "stdout",
     "output_type": "stream",
     "text": [
      "False\n"
     ]
    }
   ],
   "source": [
    "arr = [9,8,9]\n",
    "x = 7\n",
    "print(checknumber(arr,x))"
   ]
  },
  {
   "cell_type": "code",
   "execution_count": null,
   "id": "0b251413",
   "metadata": {},
   "outputs": [],
   "source": []
  }
 ],
 "metadata": {
  "kernelspec": {
   "display_name": "Python 3",
   "language": "python",
   "name": "python3"
  },
  "language_info": {
   "codemirror_mode": {
    "name": "ipython",
    "version": 3
   },
   "file_extension": ".py",
   "mimetype": "text/x-python",
   "name": "python",
   "nbconvert_exporter": "python",
   "pygments_lexer": "ipython3",
   "version": "3.8.8"
  }
 },
 "nbformat": 4,
 "nbformat_minor": 5
}
