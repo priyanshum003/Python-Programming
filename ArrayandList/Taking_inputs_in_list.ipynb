{
 "cells": [
  {
   "cell_type": "markdown",
   "id": "2245d83f",
   "metadata": {},
   "source": [
    "# Line Seprated Input"
   ]
  },
  {
   "cell_type": "code",
   "execution_count": 49,
   "id": "02dbe46d",
   "metadata": {},
   "outputs": [
    {
     "name": "stdout",
     "output_type": "stream",
     "text": [
      "Enter the number of elements: 5\n",
      "1\n",
      "2\n",
      "3\n",
      "4\n",
      "5\n"
     ]
    }
   ],
   "source": [
    "n = int(input(\"Enter the number of elements: \"))\n",
    "li = []\n",
    "\n",
    "for ele in range(n):\n",
    "    current_element = int(input())\n",
    "    li.append(current_element)"
   ]
  },
  {
   "cell_type": "code",
   "execution_count": 50,
   "id": "c3e97978",
   "metadata": {},
   "outputs": [
    {
     "data": {
      "text/plain": [
       "[1, 2, 3, 4, 5]"
      ]
     },
     "execution_count": 50,
     "metadata": {},
     "output_type": "execute_result"
    }
   ],
   "source": [
    "li   #Elements in the list are added by using line seprated inputs"
   ]
  },
  {
   "cell_type": "markdown",
   "id": "1c24f208",
   "metadata": {},
   "source": [
    "# Space Seprated Input"
   ]
  },
  {
   "cell_type": "code",
   "execution_count": 51,
   "id": "c452d3c3",
   "metadata": {},
   "outputs": [
    {
     "name": "stdout",
     "output_type": "stream",
     "text": [
      "1 2 3 4 5 6\n"
     ]
    }
   ],
   "source": [
    "str = input()"
   ]
  },
  {
   "cell_type": "code",
   "execution_count": 52,
   "id": "9c41d4b7",
   "metadata": {},
   "outputs": [],
   "source": [
    "str_split = str.split(\" \")"
   ]
  },
  {
   "cell_type": "code",
   "execution_count": 53,
   "id": "be3d4318",
   "metadata": {},
   "outputs": [
    {
     "data": {
      "text/plain": [
       "['1', '2', '3', '4', '5', '6']"
      ]
     },
     "execution_count": 53,
     "metadata": {},
     "output_type": "execute_result"
    }
   ],
   "source": [
    "str_split"
   ]
  },
  {
   "cell_type": "code",
   "execution_count": 54,
   "id": "f5b876df",
   "metadata": {},
   "outputs": [],
   "source": [
    "li2 = []"
   ]
  },
  {
   "cell_type": "code",
   "execution_count": 55,
   "id": "9c0ef6b6",
   "metadata": {},
   "outputs": [],
   "source": [
    "for ele in str_split:\n",
    "    li2.append(int(ele))"
   ]
  },
  {
   "cell_type": "code",
   "execution_count": 56,
   "id": "c9ca9b18",
   "metadata": {},
   "outputs": [
    {
     "data": {
      "text/plain": [
       "[1, 2, 3, 4, 5, 6]"
      ]
     },
     "execution_count": 56,
     "metadata": {},
     "output_type": "execute_result"
    }
   ],
   "source": [
    "li2"
   ]
  },
  {
   "cell_type": "markdown",
   "id": "070ad475",
   "metadata": {},
   "source": [
    "Every Thing in one line - List comprehension"
   ]
  },
  {
   "cell_type": "code",
   "execution_count": 60,
   "id": "d67b0924",
   "metadata": {},
   "outputs": [
    {
     "name": "stdout",
     "output_type": "stream",
     "text": [
      "4 5 6 7 8 9\n"
     ]
    }
   ],
   "source": [
    "li3 = [int(x) for x in input().split()]     #Taking space seprated input in single line !"
   ]
  },
  {
   "cell_type": "code",
   "execution_count": 61,
   "id": "5940595a",
   "metadata": {},
   "outputs": [
    {
     "data": {
      "text/plain": [
       "[4, 5, 6, 7, 8, 9]"
      ]
     },
     "execution_count": 61,
     "metadata": {},
     "output_type": "execute_result"
    }
   ],
   "source": [
    "li3"
   ]
  }
 ],
 "metadata": {
  "kernelspec": {
   "display_name": "Python 3",
   "language": "python",
   "name": "python3"
  },
  "language_info": {
   "codemirror_mode": {
    "name": "ipython",
    "version": 3
   },
   "file_extension": ".py",
   "mimetype": "text/x-python",
   "name": "python",
   "nbconvert_exporter": "python",
   "pygments_lexer": "ipython3",
   "version": "3.8.8"
  }
 },
 "nbformat": 4,
 "nbformat_minor": 5
}
