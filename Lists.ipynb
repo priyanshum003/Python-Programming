{
 "cells": [
  {
   "cell_type": "markdown",
   "id": "aec5c7d5",
   "metadata": {},
   "source": [
    "Create a List"
   ]
  },
  {
   "cell_type": "code",
   "execution_count": 96,
   "id": "03c75822",
   "metadata": {},
   "outputs": [],
   "source": [
    "li = []"
   ]
  },
  {
   "cell_type": "code",
   "execution_count": 97,
   "id": "cc376813",
   "metadata": {},
   "outputs": [],
   "source": [
    "li = [1,2,3,4]"
   ]
  },
  {
   "cell_type": "code",
   "execution_count": 98,
   "id": "d381f4ab",
   "metadata": {},
   "outputs": [
    {
     "data": {
      "text/plain": [
       "list"
      ]
     },
     "execution_count": 98,
     "metadata": {},
     "output_type": "execute_result"
    }
   ],
   "source": [
    "type(li)"
   ]
  },
  {
   "cell_type": "code",
   "execution_count": 99,
   "id": "949c03af",
   "metadata": {},
   "outputs": [],
   "source": [
    "li = [1,2,\"Priyanshu\",83.2]   #List are of hetrogenous type"
   ]
  },
  {
   "cell_type": "code",
   "execution_count": 100,
   "id": "57652bf5",
   "metadata": {},
   "outputs": [
    {
     "name": "stdout",
     "output_type": "stream",
     "text": [
      "[1, 2, 'Priyanshu', 83.2]\n"
     ]
    }
   ],
   "source": [
    "print(li)"
   ]
  },
  {
   "cell_type": "markdown",
   "id": "0b686c2c",
   "metadata": {},
   "source": [
    "Access and changing of list (With help of indexing)"
   ]
  },
  {
   "cell_type": "code",
   "execution_count": 101,
   "id": "6d7ae794",
   "metadata": {},
   "outputs": [
    {
     "data": {
      "text/plain": [
       "'Priyanshu'"
      ]
     },
     "execution_count": 101,
     "metadata": {},
     "output_type": "execute_result"
    }
   ],
   "source": [
    "li[2]   #calling 2 index element"
   ]
  },
  {
   "cell_type": "code",
   "execution_count": 102,
   "id": "5346589e",
   "metadata": {},
   "outputs": [],
   "source": [
    "li[3] = \"Raj\"  #We can change the elements with the index which is present in the list"
   ]
  },
  {
   "cell_type": "code",
   "execution_count": 103,
   "id": "967d3674",
   "metadata": {},
   "outputs": [
    {
     "data": {
      "text/plain": [
       "[1, 2, 'Priyanshu', 'Raj']"
      ]
     },
     "execution_count": 103,
     "metadata": {},
     "output_type": "execute_result"
    }
   ],
   "source": [
    "li"
   ]
  },
  {
   "cell_type": "markdown",
   "id": "0f1b2a55",
   "metadata": {},
   "source": [
    "Slicing Of List"
   ]
  },
  {
   "cell_type": "code",
   "execution_count": 104,
   "id": "7e2725f8",
   "metadata": {},
   "outputs": [
    {
     "data": {
      "text/plain": [
       "[2, 'Priyanshu']"
      ]
     },
     "execution_count": 104,
     "metadata": {},
     "output_type": "execute_result"
    }
   ],
   "source": [
    "li[1:3]     #last index will be excluded"
   ]
  },
  {
   "cell_type": "code",
   "execution_count": 105,
   "id": "8e7869f0",
   "metadata": {},
   "outputs": [
    {
     "data": {
      "text/plain": [
       "[1, 2, 'Priyanshu', 'Raj']"
      ]
     },
     "execution_count": 105,
     "metadata": {},
     "output_type": "execute_result"
    }
   ],
   "source": [
    "li"
   ]
  },
  {
   "cell_type": "code",
   "execution_count": 106,
   "id": "549f4f25",
   "metadata": {},
   "outputs": [
    {
     "data": {
      "text/plain": [
       "[2, 'Priyanshu', 'Raj']"
      ]
     },
     "execution_count": 106,
     "metadata": {},
     "output_type": "execute_result"
    }
   ],
   "source": [
    "li[1:10]    "
   ]
  },
  {
   "cell_type": "markdown",
   "id": "3817d10d",
   "metadata": {},
   "source": [
    "Insert and Append elements in the list"
   ]
  },
  {
   "cell_type": "code",
   "execution_count": 107,
   "id": "d38c7c19",
   "metadata": {},
   "outputs": [
    {
     "data": {
      "text/plain": [
       "[1, 2, 'Priyanshu', 'Raj']"
      ]
     },
     "execution_count": 107,
     "metadata": {},
     "output_type": "execute_result"
    }
   ],
   "source": [
    "li"
   ]
  },
  {
   "cell_type": "code",
   "execution_count": 108,
   "id": "d4512722",
   "metadata": {},
   "outputs": [],
   "source": [
    "li.append(\"Varun\")"
   ]
  },
  {
   "cell_type": "code",
   "execution_count": 109,
   "id": "bf32ed9d",
   "metadata": {},
   "outputs": [
    {
     "data": {
      "text/plain": [
       "[1, 2, 'Priyanshu', 'Raj', 'Varun']"
      ]
     },
     "execution_count": 109,
     "metadata": {},
     "output_type": "execute_result"
    }
   ],
   "source": [
    "li   #Varun has been added at last"
   ]
  },
  {
   "cell_type": "code",
   "execution_count": 110,
   "id": "42837102",
   "metadata": {},
   "outputs": [],
   "source": [
    "#Now lets insert this to First index !!\n",
    "li.insert(1,\"Atharva\")"
   ]
  },
  {
   "cell_type": "code",
   "execution_count": 111,
   "id": "114e998c",
   "metadata": {},
   "outputs": [
    {
     "data": {
      "text/plain": [
       "[1, 'Atharva', 2, 'Priyanshu', 'Raj', 'Varun']"
      ]
     },
     "execution_count": 111,
     "metadata": {},
     "output_type": "execute_result"
    }
   ],
   "source": [
    "li   #Its added in the first index !"
   ]
  },
  {
   "cell_type": "code",
   "execution_count": 112,
   "id": "ad30dfff",
   "metadata": {},
   "outputs": [],
   "source": [
    "li.extend([9,10,11,12])  #used to insert multiple elements"
   ]
  },
  {
   "cell_type": "code",
   "execution_count": 113,
   "id": "ee88adca",
   "metadata": {},
   "outputs": [
    {
     "data": {
      "text/plain": [
       "[1, 'Atharva', 2, 'Priyanshu', 'Raj', 'Varun', 9, 10, 11, 12]"
      ]
     },
     "execution_count": 113,
     "metadata": {},
     "output_type": "execute_result"
    }
   ],
   "source": [
    "li   #we can add list into list"
   ]
  },
  {
   "cell_type": "markdown",
   "id": "f2608771",
   "metadata": {},
   "source": [
    "Removing Element From the List"
   ]
  },
  {
   "cell_type": "code",
   "execution_count": 114,
   "id": "f698c807",
   "metadata": {},
   "outputs": [],
   "source": [
    "li.remove(2) #2 is removed"
   ]
  },
  {
   "cell_type": "code",
   "execution_count": 115,
   "id": "607826d9",
   "metadata": {},
   "outputs": [
    {
     "data": {
      "text/plain": [
       "12"
      ]
     },
     "execution_count": 115,
     "metadata": {},
     "output_type": "execute_result"
    }
   ],
   "source": [
    "li.pop() #default is last "
   ]
  },
  {
   "cell_type": "code",
   "execution_count": 116,
   "id": "4431948f",
   "metadata": {},
   "outputs": [
    {
     "data": {
      "text/plain": [
       "'Priyanshu'"
      ]
     },
     "execution_count": 116,
     "metadata": {},
     "output_type": "execute_result"
    }
   ],
   "source": [
    "li.pop(2) #2 index is removed"
   ]
  },
  {
   "cell_type": "code",
   "execution_count": 117,
   "id": "c32f6be3",
   "metadata": {},
   "outputs": [
    {
     "data": {
      "text/plain": [
       "[1, 'Atharva', 'Raj', 'Varun', 9, 10, 11]"
      ]
     },
     "execution_count": 117,
     "metadata": {},
     "output_type": "execute_result"
    }
   ],
   "source": [
    "li"
   ]
  },
  {
   "cell_type": "code",
   "execution_count": null,
   "id": "711dd75b",
   "metadata": {},
   "outputs": [],
   "source": []
  }
 ],
 "metadata": {
  "kernelspec": {
   "display_name": "Python 3",
   "language": "python",
   "name": "python3"
  },
  "language_info": {
   "codemirror_mode": {
    "name": "ipython",
    "version": 3
   },
   "file_extension": ".py",
   "mimetype": "text/x-python",
   "name": "python",
   "nbconvert_exporter": "python",
   "pygments_lexer": "ipython3",
   "version": "3.8.8"
  }
 },
 "nbformat": 4,
 "nbformat_minor": 5
}
