{
 "cells": [
  {
   "cell_type": "code",
   "execution_count": 3,
   "id": "5a4846e4",
   "metadata": {},
   "outputs": [],
   "source": [
    "class Node :\n",
    "    def __init__(self, data) :\n",
    "        self.data = data\n",
    "        self.next = None\n",
    "\n",
    "def length(head) :\n",
    "    count = 0\n",
    "    while head != -1:\n",
    "        count += 1\n",
    "        head = head.next\n",
    "    \n",
    "    return count\n"
   ]
  },
  {
   "cell_type": "code",
   "execution_count": 6,
   "id": "659a1841",
   "metadata": {},
   "outputs": [
    {
     "name": "stdout",
     "output_type": "stream",
     "text": [
      "1 2 3 4 5 -1\n",
      "1 2 3 4 5 \n"
     ]
    }
   ],
   "source": [
    "#to print the linked list \n",
    "def printLinkedList(head) :\n",
    "\n",
    "    while head is not None :\n",
    "        print(head.data, end = \" \")\n",
    "        head = head.next\n",
    "\n",
    "    print()\n",
    "\n",
    "def takeInput():\n",
    "    \n",
    "    inputList = [int(x) for x in input().split()]\n",
    "    head = None\n",
    "    tail = None\n",
    "    \n",
    "    for currdata in inputList:\n",
    "        if currdata == -1:\n",
    "            break \n",
    "        newNode = Node(currdata)\n",
    "        if head is None:\n",
    "            head = newNode \n",
    "            tail = newNode\n",
    "        else:\n",
    "            tail.next = newNode\n",
    "            tail = newNode\n",
    "        \n",
    "    return head\n",
    "head = takeInput()\n",
    "printLinkedList(head)\n",
    "\n"
   ]
  },
  {
   "cell_type": "code",
   "execution_count": null,
   "id": "8f93811c",
   "metadata": {},
   "outputs": [],
   "source": []
  }
 ],
 "metadata": {
  "kernelspec": {
   "display_name": "Python 3",
   "language": "python",
   "name": "python3"
  },
  "language_info": {
   "codemirror_mode": {
    "name": "ipython",
    "version": 3
   },
   "file_extension": ".py",
   "mimetype": "text/x-python",
   "name": "python",
   "nbconvert_exporter": "python",
   "pygments_lexer": "ipython3",
   "version": "3.8.8"
  }
 },
 "nbformat": 4,
 "nbformat_minor": 5
}
