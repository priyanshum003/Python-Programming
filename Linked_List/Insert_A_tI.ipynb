{
 "cells": [
  {
   "cell_type": "code",
   "execution_count": 9,
   "id": "731dc633",
   "metadata": {},
   "outputs": [
    {
     "name": "stdout",
     "output_type": "stream",
     "text": [
      "1 2 3 4 5 -1\n",
      "1 --> 2 --> 3 --> 4 --> 5 --> None\n",
      "1 --> 2 --> 8 --> 3 --> 4 --> 5 --> None\n",
      "9 --> 1 --> 2 --> 8 --> 3 --> 4 --> 5 --> None\n",
      "9 --> 1 --> 2 --> 8 --> 3 --> 4 --> 5 --> 10 --> None\n"
     ]
    }
   ],
   "source": [
    "class Node():\n",
    "\n",
    "    def __init__(self,data):\n",
    "        self.data = data\n",
    "        self.next = None\n",
    "        \n",
    "def printLL(head):\n",
    "    while head is not None:\n",
    "        print(str(head.data) + \" --> \",end=\"\")\n",
    "        head = head.next\n",
    "    print(\"None\")\n",
    "    return\n",
    "\n",
    "def length(head):\n",
    "    count = 0\n",
    "    while head is not None:\n",
    "        count += 1 \n",
    "        head = head.next \n",
    "    return count\n",
    "        \n",
    "def insert_at_i(head,i,data):\n",
    "    if i<0 or i>length(head):\n",
    "        return head\n",
    "    \n",
    "    count = 0 \n",
    "    curr = head\n",
    "    prev = None\n",
    "    while count < i:\n",
    "        count += 1 \n",
    "        prev = curr\n",
    "        curr = curr.next\n",
    "        \n",
    "    newNode = Node(data)\n",
    "    if prev is not None:    \n",
    "        prev.next = newNode\n",
    "    else:\n",
    "        head = newNode\n",
    "    newNode.next = curr \n",
    "    \n",
    "    return head\n",
    "    #printLL(head)\n",
    "        \n",
    "    \n",
    "    \n",
    "def Take_input():\n",
    "\n",
    "    inputList = [int(ele) for ele in input().split()]\n",
    "    head = None\n",
    "\n",
    "    for currData in inputList:\n",
    "        if currData == -1:\n",
    "            break\n",
    "        newNode = Node(currData)\n",
    "        if head is None:\n",
    "            head = newNode\n",
    "        else:\n",
    "            curr = head\n",
    "            while curr.next is not None:\n",
    "                curr = curr.next\n",
    "            curr.next = newNode\n",
    "\n",
    "    return head\n",
    "\n",
    "head = Take_input()\n",
    "printLL(head)\n",
    "head = insert_at_i(head,2,8)\n",
    "printLL(head)\n",
    "head = insert_at_i(head,0,9)\n",
    "printLL(head)\n",
    "head = insert_at_i(head,7,10)\n",
    "printLL(head)"
   ]
  },
  {
   "cell_type": "code",
   "execution_count": null,
   "id": "e50feb7a",
   "metadata": {},
   "outputs": [],
   "source": []
  }
 ],
 "metadata": {
  "kernelspec": {
   "display_name": "Python 3",
   "language": "python",
   "name": "python3"
  },
  "language_info": {
   "codemirror_mode": {
    "name": "ipython",
    "version": 3
   },
   "file_extension": ".py",
   "mimetype": "text/x-python",
   "name": "python",
   "nbconvert_exporter": "python",
   "pygments_lexer": "ipython3",
   "version": "3.8.8"
  }
 },
 "nbformat": 4,
 "nbformat_minor": 5
}
